{
  "cells": [
    {
      "cell_type": "markdown",
      "metadata": {},
      "source": [
        "\n# Field evolution and zonal stats\n\nUsing Agriculture cloud mask from EarthDaily, and data from L2A, zonal stats for evolution\n"
      ]
    },
    {
      "cell_type": "markdown",
      "metadata": {},
      "source": [
        "## Import librairies\n\n"
      ]
    },
    {
      "cell_type": "code",
      "execution_count": null,
      "metadata": {
        "collapsed": false
      },
      "outputs": [],
      "source": [
        "from earthdaily import earthdatastore, datasets\nimport geopandas as gpd\nfrom matplotlib import pyplot as plt"
      ]
    },
    {
      "cell_type": "markdown",
      "metadata": {},
      "source": [
        "## Load plot\n\n"
      ]
    },
    {
      "cell_type": "code",
      "execution_count": null,
      "metadata": {
        "collapsed": false
      },
      "outputs": [],
      "source": [
        "# load geojson\npivot = datasets.load_pivot()"
      ]
    },
    {
      "cell_type": "markdown",
      "metadata": {},
      "source": [
        "## Init earthdatastore with env params\n\n"
      ]
    },
    {
      "cell_type": "code",
      "execution_count": null,
      "metadata": {
        "collapsed": false
      },
      "outputs": [],
      "source": [
        "eds = earthdatastore.Auth()"
      ]
    },
    {
      "cell_type": "markdown",
      "metadata": {},
      "source": [
        "Search for collection items in august 2022 (1st to 9th)\nwhere at least 50% of the field is clear according to the native cloudmask.\n\n"
      ]
    },
    {
      "cell_type": "code",
      "execution_count": null,
      "metadata": {
        "collapsed": false
      },
      "outputs": [],
      "source": [
        "pivot_cube = eds.datacube(\n    \"sentinel-2-l2a\",\n    intersects=pivot,\n    datetime=[\"2022-01\",\"2022-03\"],\n    assets=[\"red\", \"green\", \"blue\", \"nir\"],\n    mask_with=[\"native\"],\n    clear_cover=50,\n)\npivot_cube.clear_percent.plot.scatter(x=\"time\")"
      ]
    },
    {
      "cell_type": "markdown",
      "metadata": {},
      "source": [
        "## Add spectral indices using spyndex from earthdaily accessor\n\n"
      ]
    },
    {
      "cell_type": "code",
      "execution_count": null,
      "metadata": {
        "collapsed": false
      },
      "outputs": [],
      "source": [
        "pivot_cube = pivot_cube.ed.add_indices(['NDVI'])"
      ]
    },
    {
      "cell_type": "markdown",
      "metadata": {},
      "source": [
        "## Plots cube with SCL with at least 50% of clear data\n\n"
      ]
    },
    {
      "cell_type": "code",
      "execution_count": null,
      "metadata": {
        "collapsed": false
      },
      "outputs": [],
      "source": [
        "pivot_cube = pivot_cube.load()\npivot_cube.ed.plot_rgb(col_wrap=3, vmin=0, vmax=.2)\nplt.title(\"Pivot evolution masked with native cloudmasks\")\nplt.show()"
      ]
    },
    {
      "cell_type": "markdown",
      "metadata": {},
      "source": [
        "## Compute zonal stats for the pivot\n\n"
      ]
    },
    {
      "cell_type": "code",
      "execution_count": null,
      "metadata": {
        "collapsed": false
      },
      "outputs": [],
      "source": [
        "zonal_stats = pivot_cube.ed.zonal_stats(pivot, ['mean','max','min'])\n\nzonal_stats.isel(feature=0).to_array(dim=\"band\").plot.line(\n    x=\"time\", col=\"band\", hue=\"stats\", col_wrap=3\n)\nplt.show()"
      ]
    }
  ],
  "metadata": {
    "kernelspec": {
      "display_name": "Python 3",
      "language": "python",
      "name": "python3"
    },
    "language_info": {
      "codemirror_mode": {
        "name": "ipython",
        "version": 3
      },
      "file_extension": ".py",
      "mimetype": "text/x-python",
      "name": "python",
      "nbconvert_exporter": "python",
      "pygments_lexer": "ipython3",
      "version": "3.11.9"
    }
  },
  "nbformat": 4,
  "nbformat_minor": 0
}